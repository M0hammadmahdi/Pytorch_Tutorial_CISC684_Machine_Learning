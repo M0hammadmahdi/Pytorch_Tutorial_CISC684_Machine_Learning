{
  "nbformat": 4,
  "nbformat_minor": 0,
  "metadata": {
    "colab": {
      "name": "Tutorial_Pytorch.ipynb",
      "provenance": [],
      "collapsed_sections": []
    },
    "kernelspec": {
      "name": "python3",
      "display_name": "Python 3"
    },
    "language_info": {
      "name": "python"
    }
  },
  "cells": [
    {
      "cell_type": "code",
      "metadata": {
        "colab": {
          "base_uri": "https://localhost:8080/"
        },
        "id": "y0FiTGXNANvf",
        "outputId": "b1b4da1d-3d28-4c8d-98f0-4d0f288c9866"
      },
      "source": [
        "import torch\n",
        "t1 = torch.tensor(4.)\n",
        "t1\n",
        "t1.dtype\n"
      ],
      "execution_count": null,
      "outputs": [
        {
          "output_type": "execute_result",
          "data": {
            "text/plain": [
              "torch.float32"
            ]
          },
          "metadata": {},
          "execution_count": 2
        }
      ]
    },
    {
      "cell_type": "code",
      "metadata": {
        "colab": {
          "base_uri": "https://localhost:8080/"
        },
        "id": "2FHyKAU0AOVL",
        "outputId": "6fdc0697-b201-4c0b-8c8b-cecd5881f29f"
      },
      "source": [
        "t2 = torch.tensor([1., 2, 3, 4])\n",
        "t2\n"
      ],
      "execution_count": null,
      "outputs": [
        {
          "output_type": "execute_result",
          "data": {
            "text/plain": [
              "tensor([1., 2., 3., 4.])"
            ]
          },
          "metadata": {},
          "execution_count": 3
        }
      ]
    },
    {
      "cell_type": "code",
      "metadata": {
        "colab": {
          "base_uri": "https://localhost:8080/"
        },
        "id": "iOmxAH4kAtn3",
        "outputId": "93399393-bdaf-46ed-d6cf-055bb7bb741b"
      },
      "source": [
        "t3 = torch.tensor([[5., 6], [7, 8], [9, 10]])\n",
        "t3\n",
        "\n"
      ],
      "execution_count": null,
      "outputs": [
        {
          "output_type": "execute_result",
          "data": {
            "text/plain": [
              "tensor([[ 5.,  6.],\n",
              "        [ 7.,  8.],\n",
              "        [ 9., 10.]])"
            ]
          },
          "metadata": {},
          "execution_count": 4
        }
      ]
    },
    {
      "cell_type": "code",
      "metadata": {
        "colab": {
          "base_uri": "https://localhost:8080/"
        },
        "id": "e0BccNNRAvim",
        "outputId": "544ee1d7-e071-4c6b-b627-bfd5bd71b7eb"
      },
      "source": [
        "t4 = torch.tensor([\n",
        "    [[11, 12, 13], \n",
        "     [13, 14, 15]], \n",
        "    [[15, 16, 17], \n",
        "     [17, 18, 19.]]])\n",
        "t4"
      ],
      "execution_count": null,
      "outputs": [
        {
          "output_type": "execute_result",
          "data": {
            "text/plain": [
              "tensor([[[11., 12., 13.],\n",
              "         [13., 14., 15.]],\n",
              "\n",
              "        [[15., 16., 17.],\n",
              "         [17., 18., 19.]]])"
            ]
          },
          "metadata": {},
          "execution_count": 5
        }
      ]
    },
    {
      "cell_type": "code",
      "metadata": {
        "colab": {
          "base_uri": "https://localhost:8080/"
        },
        "id": "2wVM3KEtBaSJ",
        "outputId": "0cee4f12-23fc-4e8c-e425-2864c69abdfa"
      },
      "source": [
        "t4.shape"
      ],
      "execution_count": null,
      "outputs": [
        {
          "output_type": "execute_result",
          "data": {
            "text/plain": [
              "torch.Size([2, 2, 3])"
            ]
          },
          "metadata": {},
          "execution_count": 6
        }
      ]
    },
    {
      "cell_type": "code",
      "metadata": {
        "id": "keyISr-KB8U4"
      },
      "source": [
        "# Create tensors.\n",
        "x = torch.tensor(3.)\n",
        "w = torch.tensor(4., requires_grad=True)\n",
        "b = torch.tensor(5., requires_grad=True)"
      ],
      "execution_count": null,
      "outputs": []
    },
    {
      "cell_type": "code",
      "metadata": {
        "id": "zEcUwyL4CB3_"
      },
      "source": [
        "y = w * x + b\n",
        "y"
      ],
      "execution_count": null,
      "outputs": []
    },
    {
      "cell_type": "code",
      "metadata": {
        "id": "vaQSrM1ICHOv"
      },
      "source": [
        "y.backward()\n"
      ],
      "execution_count": null,
      "outputs": []
    },
    {
      "cell_type": "code",
      "metadata": {
        "id": "8FAwMcnWCNE-"
      },
      "source": [
        "# Display gradients\n",
        "print('dy/dx:', x.grad)\n",
        "print('dy/dw:', w.grad)\n",
        "print('dy/db:', b.grad)"
      ],
      "execution_count": null,
      "outputs": []
    },
    {
      "cell_type": "code",
      "metadata": {
        "colab": {
          "base_uri": "https://localhost:8080/"
        },
        "id": "i_IU31fXClwo",
        "outputId": "9984d867-6c0f-4a04-d75e-4f250c2b3eaf"
      },
      "source": [
        "A = torch.tensor([[2.,-1],[-1,2]])\n",
        "w = torch.tensor([[0.5],[0.5]], requires_grad=True)\n",
        "b = torch.tensor([[3.],[6]])\n",
        "c = torch.tensor(5.)\n",
        "\n",
        "y = 0.5*w.t() @ A @ w+w.t()@ b +c\n",
        "for _ in range(100):\n",
        "  y = 0.5*w.t() @ A @ w+w.t()@ b +c\n",
        "  y.backward()\n",
        "  with torch.no_grad():\n",
        "    w -= w.grad * 0.1\n",
        "    w.grad.zero_()\n",
        "print(w)"
      ],
      "execution_count": null,
      "outputs": [
        {
          "output_type": "stream",
          "name": "stdout",
          "text": [
            "tensor([[-3.9999],\n",
            "        [-4.9999]], requires_grad=True)\n"
          ]
        }
      ]
    },
    {
      "cell_type": "code",
      "metadata": {
        "colab": {
          "base_uri": "https://localhost:8080/"
        },
        "id": "YGiyc3SPH9Ia",
        "outputId": "700f9453-1df4-4a95-8bdd-91b57b7047b0"
      },
      "source": [
        "# Find the minimum value of w^2+3w+1\n",
        "\n",
        "w = torch.tensor(0., requires_grad=True)\n"
      ],
      "execution_count": null,
      "outputs": [
        {
          "output_type": "stream",
          "name": "stdout",
          "text": [
            "tensor(-1.5000, requires_grad=True)\n"
          ]
        }
      ]
    },
    {
      "cell_type": "markdown",
      "metadata": {
        "id": "vQjADnvTI35Z"
      },
      "source": [
        "Linear Regression"
      ]
    },
    {
      "cell_type": "code",
      "metadata": {
        "id": "kQZFQiwSIYCj"
      },
      "source": [
        "import numpy as np\n",
        "X = np.array([[73, 67, 43], \n",
        "                   [91, 88, 64], \n",
        "                   [87, 134, 58], \n",
        "                   [69, 96, 70]], dtype='float32').T\n",
        "# Targets (apples, oranges)\n",
        "y = np.array([ 10, 20, 30,5], dtype='float32')"
      ],
      "execution_count": null,
      "outputs": []
    },
    {
      "cell_type": "code",
      "metadata": {
        "colab": {
          "base_uri": "https://localhost:8080/"
        },
        "id": "9tJY5XUJJ2cc",
        "outputId": "4cc85cdc-82f4-4c15-f6c1-f36dd8b2f2ed"
      },
      "source": [
        "X = torch.from_numpy(X)\n",
        "y = torch.from_numpy(y)\n",
        "print(X)\n",
        "print(y)"
      ],
      "execution_count": null,
      "outputs": [
        {
          "output_type": "stream",
          "name": "stdout",
          "text": [
            "tensor([[ 73.,  91.,  87.,  69.],\n",
            "        [ 67.,  88., 134.,  96.],\n",
            "        [ 43.,  64.,  58.,  70.]])\n",
            "tensor([10., 20., 30.,  5.])\n"
          ]
        }
      ]
    },
    {
      "cell_type": "code",
      "metadata": {
        "colab": {
          "base_uri": "https://localhost:8080/"
        },
        "id": "9u05k4wyKC7b",
        "outputId": "45b22fb9-92dc-416d-c682-ec43448bb181"
      },
      "source": [
        "# Weights and biases\n",
        "w = torch.randn(3, 1, requires_grad=True)\n",
        "b = torch.randn(1, requires_grad=True)\n",
        "print(w)\n",
        "print(b)"
      ],
      "execution_count": null,
      "outputs": [
        {
          "output_type": "stream",
          "name": "stdout",
          "text": [
            "tensor([[-1.2184],\n",
            "        [-0.2636],\n",
            "        [-0.5988]], requires_grad=True)\n",
            "tensor([0.4954], requires_grad=True)\n"
          ]
        }
      ]
    },
    {
      "cell_type": "code",
      "metadata": {
        "colab": {
          "base_uri": "https://localhost:8080/"
        },
        "id": "UttX5c-xKN08",
        "outputId": "90821570-f35d-4a22-aa8d-02fee88cbb65"
      },
      "source": [
        "def model(x):\n",
        "    return w.t()@x + b\n",
        "\n",
        "preds = model(X)\n",
        "print(preds)"
      ],
      "execution_count": null,
      "outputs": [
        {
          "output_type": "stream",
          "name": "stdout",
          "text": [
            "tensor([[-131.8597, -171.9017, -175.5611, -150.7977]], grad_fn=<AddBackward0>)\n"
          ]
        }
      ]
    },
    {
      "cell_type": "code",
      "metadata": {
        "colab": {
          "base_uri": "https://localhost:8080/"
        },
        "id": "yMKi8aV7Kehx",
        "outputId": "20c28adb-72c6-4965-fb28-90c5a815819d"
      },
      "source": [
        "def mse(t1, t2):\n",
        "    diff = t1 - t2\n",
        "    return torch.sum(diff * diff) / diff.numel()\n",
        "\n",
        "\n",
        "#Compute loss\n",
        "loss = mse(preds, y)\n",
        "print(loss)"
      ],
      "execution_count": null,
      "outputs": [
        {
          "output_type": "stream",
          "name": "stdout",
          "text": [
            "tensor(30869.6758, grad_fn=<DivBackward0>)\n"
          ]
        }
      ]
    },
    {
      "cell_type": "code",
      "metadata": {
        "id": "fY3Tuo0-K-PV"
      },
      "source": [
        "for i in range(2000):\n",
        "    preds = model(X)\n",
        "    loss = mse(preds, y)\n",
        "    loss.backward()\n",
        "    with torch.no_grad():\n",
        "        w -= w.grad * 0.00001\n",
        "        b -= b.grad * 0.00001\n",
        "        w.grad.zero_()\n",
        "        b.grad.zero_()\n"
      ],
      "execution_count": null,
      "outputs": []
    },
    {
      "cell_type": "code",
      "metadata": {
        "colab": {
          "base_uri": "https://localhost:8080/"
        },
        "id": "KU79ClJqLFqT",
        "outputId": "63d69fe1-e792-4b47-f7b5-bbb2a9a37f94"
      },
      "source": [
        "preds = model(X)\n",
        "loss = mse(preds, y)\n",
        "print(loss)"
      ],
      "execution_count": null,
      "outputs": [
        {
          "output_type": "stream",
          "name": "stdout",
          "text": [
            "tensor(16.1577, grad_fn=<DivBackward0>)\n"
          ]
        }
      ]
    },
    {
      "cell_type": "markdown",
      "metadata": {
        "id": "M2PW7P9wSDz9"
      },
      "source": [
        "Linear regression using PyTorch built-ins\n"
      ]
    },
    {
      "cell_type": "code",
      "metadata": {
        "colab": {
          "base_uri": "https://localhost:8080/"
        },
        "id": "aOZCpFK5MHye",
        "outputId": "3766ab62-dae4-45b9-f8e4-5f7854469a94"
      },
      "source": [
        "# Input (temp, rainfall, humidity)\n",
        "X = np.array([[73, 67, 43], [91, 88, 64], [87, 134, 58], \n",
        "                   [102, 43, 37], [69, 96, 70], [73, 67, 43], \n",
        "                   [91, 88, 64], [87, 134, 58], [102, 43, 37], \n",
        "                   [69, 96, 70], [73, 67, 43], [91, 88, 64], \n",
        "                   [87, 134, 58], [102, 43, 37], [69, 96, 70]], \n",
        "                  dtype='float32')\n",
        "\n",
        "# Targets (apples, oranges)\n",
        "y = np.array([56 , 81 , 22 ,  103 ,  56 , 81 , 60,  22,   50,  56,  81,   119,   22, 5, 35 ],dtype='float32')\n",
        "\n",
        "X = torch.from_numpy(X)\n",
        "y = torch.from_numpy(y)\n",
        "\n",
        "y.shape"
      ],
      "execution_count": null,
      "outputs": [
        {
          "output_type": "execute_result",
          "data": {
            "text/plain": [
              "torch.Size([15])"
            ]
          },
          "metadata": {},
          "execution_count": 208
        }
      ]
    },
    {
      "cell_type": "code",
      "metadata": {
        "id": "iWl9XmoqUaZl"
      },
      "source": [
        "from torch.utils.data import TensorDataset\n",
        "# Define dataset\n",
        "train_ds = TensorDataset(X, y)\n",
        "a,b = train_ds[0]"
      ],
      "execution_count": null,
      "outputs": []
    },
    {
      "cell_type": "code",
      "metadata": {
        "id": "A6kNcSVAWDSu"
      },
      "source": [
        "from torch.utils.data import DataLoader\n",
        "# Define data loader\n",
        "batch_size = 5\n",
        "train_dl = DataLoader(train_ds, batch_size, shuffle=True)\n",
        "\n"
      ],
      "execution_count": null,
      "outputs": []
    },
    {
      "cell_type": "code",
      "metadata": {
        "colab": {
          "base_uri": "https://localhost:8080/"
        },
        "id": "MLzqBspAWsCY",
        "outputId": "61471f04-d1b0-4b69-c028-93b750f39e5a"
      },
      "source": [
        "for xb, yb in train_dl:\n",
        "    print(xb)\n",
        "    print(yb)\n",
        "    break"
      ],
      "execution_count": null,
      "outputs": [
        {
          "output_type": "stream",
          "name": "stdout",
          "text": [
            "tensor([[ 69.,  96.,  70.],\n",
            "        [102.,  43.,  37.],\n",
            "        [ 87., 134.,  58.],\n",
            "        [ 73.,  67.,  43.],\n",
            "        [102.,  43.,  37.]])\n",
            "tensor([ 56.,   5.,  22.,  56., 103.])\n"
          ]
        }
      ]
    },
    {
      "cell_type": "code",
      "metadata": {
        "colab": {
          "base_uri": "https://localhost:8080/"
        },
        "id": "cbt5IASkW8fg",
        "outputId": "537d4fa2-6d5f-4ffa-dbde-5b17b96f11ed"
      },
      "source": [
        "import torch.nn as nn\n",
        "\n",
        "# Define model\n",
        "model = nn.Linear(3, 2)\n",
        "print(model.weight)\n",
        "print(model.bias)"
      ],
      "execution_count": null,
      "outputs": [
        {
          "output_type": "stream",
          "name": "stdout",
          "text": [
            "Parameter containing:\n",
            "tensor([[ 0.4969,  0.2428, -0.5115],\n",
            "        [ 0.3017,  0.5736, -0.5537]], requires_grad=True)\n",
            "Parameter containing:\n",
            "tensor([ 0.0603, -0.4271], requires_grad=True)\n"
          ]
        }
      ]
    },
    {
      "cell_type": "code",
      "metadata": {
        "colab": {
          "base_uri": "https://localhost:8080/"
        },
        "id": "C8bLu-jPXIxK",
        "outputId": "d060ddc1-2f8d-4d07-ffaa-bec65d707940"
      },
      "source": [
        "model = nn.Linear(3, 1)\n",
        "print(model.weight)\n",
        "print(model.bias)"
      ],
      "execution_count": null,
      "outputs": [
        {
          "output_type": "stream",
          "name": "stdout",
          "text": [
            "Parameter containing:\n",
            "tensor([[ 0.2415, -0.1016, -0.5037]], requires_grad=True)\n",
            "Parameter containing:\n",
            "tensor([0.0717], requires_grad=True)\n"
          ]
        }
      ]
    },
    {
      "cell_type": "code",
      "metadata": {
        "colab": {
          "base_uri": "https://localhost:8080/"
        },
        "id": "U8obxQtvXRGf",
        "outputId": "54a99e74-050f-49dd-8c31-f870343e099b"
      },
      "source": [
        "list(model.parameters())\n"
      ],
      "execution_count": null,
      "outputs": [
        {
          "output_type": "execute_result",
          "data": {
            "text/plain": [
              "[Parameter containing:\n",
              " tensor([[ 0.2415, -0.1016, -0.5037]], requires_grad=True),\n",
              " Parameter containing:\n",
              " tensor([0.0717], requires_grad=True)]"
            ]
          },
          "metadata": {},
          "execution_count": 214
        }
      ]
    },
    {
      "cell_type": "code",
      "metadata": {
        "colab": {
          "base_uri": "https://localhost:8080/"
        },
        "id": "2RgLJzjNXfc7",
        "outputId": "92ed5560-1b55-45ef-a086-f938bc82dea3"
      },
      "source": [
        "# Parameters\n",
        "list(model.parameters())\n",
        "\n",
        "# Generate predictions\n",
        "preds = model(X)\n",
        "preds"
      ],
      "execution_count": null,
      "outputs": [
        {
          "output_type": "execute_result",
          "data": {
            "text/plain": [
              "tensor([[-10.7644],\n",
              "        [-19.1282],\n",
              "        [-21.7441],\n",
              "        [  1.6980],\n",
              "        [-28.2752],\n",
              "        [-10.7644],\n",
              "        [-19.1282],\n",
              "        [-21.7441],\n",
              "        [  1.6980],\n",
              "        [-28.2752],\n",
              "        [-10.7644],\n",
              "        [-19.1282],\n",
              "        [-21.7441],\n",
              "        [  1.6980],\n",
              "        [-28.2752]], grad_fn=<AddmmBackward0>)"
            ]
          },
          "metadata": {},
          "execution_count": 215
        }
      ]
    },
    {
      "cell_type": "code",
      "metadata": {
        "id": "olg5GodwXp0u"
      },
      "source": [
        "# Import nn.functional\n",
        "import torch.nn.functional as F"
      ],
      "execution_count": null,
      "outputs": []
    },
    {
      "cell_type": "code",
      "metadata": {
        "colab": {
          "base_uri": "https://localhost:8080/"
        },
        "id": "3vPy0wUNXrf1",
        "outputId": "2dde682b-b96f-48c1-c0a5-f0191e2fe99c"
      },
      "source": [
        "# Define loss function\n",
        "loss_fn = F.mse_loss\n",
        "\n",
        "loss = loss_fn(model(X), y)\n",
        "print(loss)"
      ],
      "execution_count": null,
      "outputs": [
        {
          "output_type": "stream",
          "name": "stdout",
          "text": [
            "tensor(6299.6846, grad_fn=<MseLossBackward0>)\n"
          ]
        },
        {
          "output_type": "stream",
          "name": "stderr",
          "text": [
            "/usr/local/lib/python3.7/dist-packages/ipykernel_launcher.py:4: UserWarning: Using a target size (torch.Size([15])) that is different to the input size (torch.Size([15, 1])). This will likely lead to incorrect results due to broadcasting. Please ensure they have the same size.\n",
            "  after removing the cwd from sys.path.\n"
          ]
        }
      ]
    },
    {
      "cell_type": "code",
      "metadata": {
        "id": "xwKAJdVLXz1o"
      },
      "source": [
        "# Define optimizer\n",
        "opt = torch.optim.SGD(model.parameters(), lr=1e-5)"
      ],
      "execution_count": null,
      "outputs": []
    },
    {
      "cell_type": "code",
      "metadata": {
        "id": "Oo7UqfI7X2wb"
      },
      "source": [
        "# Utility function to train the model\n",
        "def fit(num_epochs, model, loss_fn, opt):\n",
        "    \n",
        "    # Repeat for given number of epochs\n",
        "    for epoch in range(num_epochs):\n",
        "        \n",
        "        # Train with batches of data\n",
        "        for xb,yb in train_dl:\n",
        "            \n",
        "            # 1. Generate predictions\n",
        "            pred = model(xb)\n",
        "            \n",
        "            # 2. Calculate loss\n",
        "            loss = loss_fn(pred, yb)\n",
        "            \n",
        "            # 3. Compute gradients\n",
        "            loss.backward()\n",
        "            \n",
        "            # 4. Update parameters using gradients\n",
        "            opt.step()\n",
        "            \n",
        "            # 5. Reset the gradients to zero\n",
        "            opt.zero_grad()\n",
        "        \n",
        "        # Print the progress\n",
        "        if (epoch+1) % 100 == 0:\n",
        "            print('Epoch [{}/{}], Loss: {:.4f}'.format(epoch+1, num_epochs, loss.item()))"
      ],
      "execution_count": null,
      "outputs": []
    },
    {
      "cell_type": "code",
      "metadata": {
        "colab": {
          "base_uri": "https://localhost:8080/"
        },
        "id": "Yk_nx_jRX6OY",
        "outputId": "41fecab5-b0a3-4ed5-a253-0e025de1195f"
      },
      "source": [
        "fit(1000, model, loss_fn, opt)\n"
      ],
      "execution_count": null,
      "outputs": [
        {
          "output_type": "stream",
          "name": "stderr",
          "text": [
            "/usr/local/lib/python3.7/dist-packages/ipykernel_launcher.py:14: UserWarning: Using a target size (torch.Size([5])) that is different to the input size (torch.Size([5, 1])). This will likely lead to incorrect results due to broadcasting. Please ensure they have the same size.\n",
            "  \n"
          ]
        },
        {
          "output_type": "stream",
          "name": "stdout",
          "text": [
            "Epoch [100/1000], Loss: 770.7971\n",
            "Epoch [200/1000], Loss: 433.0088\n",
            "Epoch [300/1000], Loss: 1516.0294\n",
            "Epoch [400/1000], Loss: 1218.9398\n",
            "Epoch [500/1000], Loss: 1239.4220\n",
            "Epoch [600/1000], Loss: 1637.8041\n",
            "Epoch [700/1000], Loss: 867.0541\n",
            "Epoch [800/1000], Loss: 1388.7329\n",
            "Epoch [900/1000], Loss: 40.4476\n",
            "Epoch [1000/1000], Loss: 523.1473\n"
          ]
        }
      ]
    },
    {
      "cell_type": "code",
      "metadata": {
        "colab": {
          "base_uri": "https://localhost:8080/"
        },
        "id": "ziDm1aTJX85w",
        "outputId": "54104e4f-b535-4b28-d2d9-0f7aa761ad89"
      },
      "source": [
        "pred = model(X)\n",
        "loss = loss_fn(pred, y)\n",
        "print(loss)"
      ],
      "execution_count": null,
      "outputs": [
        {
          "output_type": "stream",
          "name": "stdout",
          "text": [
            "tensor(1007.3383, grad_fn=<MseLossBackward0>)\n"
          ]
        },
        {
          "output_type": "stream",
          "name": "stderr",
          "text": [
            "/usr/local/lib/python3.7/dist-packages/ipykernel_launcher.py:2: UserWarning: Using a target size (torch.Size([15])) that is different to the input size (torch.Size([15, 1])). This will likely lead to incorrect results due to broadcasting. Please ensure they have the same size.\n",
            "  \n"
          ]
        }
      ]
    },
    {
      "cell_type": "code",
      "metadata": {
        "colab": {
          "base_uri": "https://localhost:8080/"
        },
        "id": "YqRY0ca0YByj",
        "outputId": "ae4aae3e-130a-4428-ee25-dd7f04410b5f"
      },
      "source": [
        "y\n"
      ],
      "execution_count": null,
      "outputs": [
        {
          "output_type": "execute_result",
          "data": {
            "text/plain": [
              "tensor([ 56.,  81.,  22., 103.,  56.,  81.,  60.,  22.,  50.,  56.,  81., 119.,\n",
              "         22.,   5.,  35.])"
            ]
          },
          "metadata": {},
          "execution_count": 222
        }
      ]
    },
    {
      "cell_type": "code",
      "metadata": {
        "id": "xHbeOEtsbYMM"
      },
      "source": [
        "import numpy as np\n",
        "import pandas as pd\n",
        "import matplotlib.pyplot as plt\n",
        "import torch\n",
        "import torch.nn as nn\n",
        "import torch.optim as optim\n",
        "from sklearn import datasets\n",
        "from sklearn.model_selection import train_test_split\n",
        "from fastai.vision import Module\n",
        "from IPython.core.debugger import set_trace"
      ],
      "execution_count": null,
      "outputs": []
    },
    {
      "cell_type": "code",
      "metadata": {
        "colab": {
          "base_uri": "https://localhost:8080/"
        },
        "id": "FAq-L5xJdXU_",
        "outputId": "c88c51b7-659f-4e71-c96b-7247d3f676fe"
      },
      "source": [
        "iris = datasets.load_iris()\n",
        "X = iris.data   # Get training attributes\n",
        "y = iris.target # Get labels\n",
        "input_size = X.shape[-1]\n",
        "cats = np.sum(np.unique(y)).astype(int)\n",
        "print('Number of samples:', X.shape[0])\n",
        "print('Number of attributes:', input_size)\n",
        "print('Number of categories:', cats)"
      ],
      "execution_count": null,
      "outputs": [
        {
          "output_type": "stream",
          "name": "stdout",
          "text": [
            "Number of samples: 150\n",
            "Number of attributes: 4\n",
            "Number of categories: 3\n"
          ]
        }
      ]
    },
    {
      "cell_type": "code",
      "metadata": {
        "id": "nyUz9Nf_dc5A"
      },
      "source": [
        "X_train, X_test, y_train, y_test = train_test_split(X, y, test_size=0.50, random_state=2020)\n"
      ],
      "execution_count": null,
      "outputs": []
    },
    {
      "cell_type": "code",
      "metadata": {
        "id": "h0xIyPTVe5kM"
      },
      "source": [
        "model =  nn.Sequential(\n",
        "     nn.Linear(4, 3),\n",
        "     nn.Softmax()\n",
        ") \n",
        "criterion = nn.CrossEntropyLoss()\n",
        "optimizer = optim.SGD(model.parameters(), lr=0.01,weight_decay=0.01)"
      ],
      "execution_count": null,
      "outputs": []
    },
    {
      "cell_type": "code",
      "metadata": {
        "colab": {
          "base_uri": "https://localhost:8080/"
        },
        "id": "bzKt3ti2jEDO",
        "outputId": "057cdbe3-397a-4b39-ac22-cdfd8f51d31b"
      },
      "source": [
        "for param in model.parameters():\n",
        "  print(param)"
      ],
      "execution_count": null,
      "outputs": [
        {
          "output_type": "stream",
          "name": "stdout",
          "text": [
            "Parameter containing:\n",
            "tensor([[-0.1174, -0.4084, -0.4839,  0.3204],\n",
            "        [ 0.4565, -0.4841,  0.2507,  0.0545],\n",
            "        [-0.2857,  0.3408,  0.4124, -0.0650]], requires_grad=True)\n",
            "Parameter containing:\n",
            "tensor([ 0.3755, -0.4305,  0.4284], requires_grad=True)\n"
          ]
        }
      ]
    },
    {
      "cell_type": "code",
      "metadata": {
        "id": "eGvnYfz5d617"
      },
      "source": [
        "x_train = torch.from_numpy(X_train).float()\n",
        "y_train = torch.from_numpy(y_train).long()\n",
        "x_test = torch.from_numpy(X_test).float()\n",
        "y_test = torch.from_numpy(y_test).long()"
      ],
      "execution_count": null,
      "outputs": []
    },
    {
      "cell_type": "code",
      "metadata": {
        "id": "JwbCGgEveBvB"
      },
      "source": [
        "def accuracy_multi(x, y):\n",
        "    return (x.argmax(-1) == y).float().mean()\n",
        "\n",
        "def fit(x_train, y_train, x_test, y_test, model, criterion, optimizer, num_epochs):\n",
        "    loss_history      = [] # to save the loss at each epoch.\n",
        "    loss_test_history = [] # to save the test loss at each epoch.\n",
        "    out_history       = [] # to save the parameters at each epoch\n",
        "    acc_train_history = []\n",
        "    acc_test_history  = [] \n",
        "    for ii, epoch in enumerate(range(num_epochs)):\n",
        "        # forward\n",
        "        out       = model(x_train)\n",
        "        loss      = criterion(out, y_train)\n",
        "        acc_train = accuracy_multi(out, y_train)\n",
        "\n",
        "        # backward\n",
        "        optimizer.zero_grad()\n",
        "        loss.backward()\n",
        "        optimizer.step()\n",
        "        \n",
        "        # test\n",
        "        with torch.no_grad():\n",
        "          out_test  = model(x_test)\n",
        "          loss_test = criterion(out_test, y_test)\n",
        "          acc_test  = accuracy_multi(out_test, y_test)\n",
        "        \n",
        "          loss_history.append(loss.item())\n",
        "          loss_test_history.append(loss_test.item())\n",
        "          acc_train_history.append(acc_train)\n",
        "          acc_test_history.append(acc_test)\n",
        "          if ii == 0:\n",
        "            out_history = out.detach().cpu().numpy()\n",
        "          else:\n",
        "            out_history = np.concatenate((out_history, out.detach().cpu().numpy()), axis=-1)\n",
        "        \n",
        "    print('Epoch[{}/{}], loss:{:.6f}'.format(epoch+1, num_epochs, loss.item()))\n",
        "    return loss_history, loss_test_history, out_history, acc_train_history, acc_test_history"
      ],
      "execution_count": null,
      "outputs": []
    },
    {
      "cell_type": "code",
      "metadata": {
        "colab": {
          "base_uri": "https://localhost:8080/"
        },
        "id": "i4pJfB_qeF5M",
        "outputId": "70998013-94ef-4749-c6ea-5ff82f4a216b"
      },
      "source": [
        "\n",
        "%time \n",
        "loss_train, loss_test, out, acc_train, acc_test = fit(x_train, y_train, x_test, y_test, model, criterion, optimizer, num_epochs=100)"
      ],
      "execution_count": null,
      "outputs": [
        {
          "output_type": "stream",
          "name": "stdout",
          "text": [
            "CPU times: user 4 µs, sys: 0 ns, total: 4 µs\n",
            "Wall time: 8.11 µs\n",
            "Epoch[100/100], loss:0.973045\n"
          ]
        },
        {
          "output_type": "stream",
          "name": "stderr",
          "text": [
            "/usr/local/lib/python3.7/dist-packages/torch/nn/modules/container.py:141: UserWarning: Implicit dimension choice for softmax has been deprecated. Change the call to include dim=X as an argument.\n",
            "  input = module(input)\n"
          ]
        }
      ]
    },
    {
      "cell_type": "code",
      "metadata": {
        "colab": {
          "base_uri": "https://localhost:8080/",
          "height": 367
        },
        "id": "9j84AZm9eIRM",
        "outputId": "ecca65a1-a8c8-4498-8efb-3f1ce75a03a6"
      },
      "source": [
        "plt.figure(figsize=(6,3), dpi=120)\n",
        "plt.plot(loss_train, color='red', label='train loss')\n",
        "plt.plot(loss_test, color='green', label='test loss')\n",
        "plt.xlabel('epoch')\n",
        "plt.ylabel('Loss')\n",
        "plt.legend()\n",
        "plt.show()"
      ],
      "execution_count": null,
      "outputs": [
        {
          "output_type": "display_data",
          "data": {
            "image/png": "[encoded data removed]",
            "text/plain": [
              "<Figure size 720x360 with 1 Axes>"
            ]
          },
          "metadata": {
            "needs_background": "light"
          }
        }
      ]
    },
    {
      "cell_type": "code",
      "metadata": {
        "colab": {
          "base_uri": "https://localhost:8080/",
          "height": 374
        },
        "id": "LFRNYK4Ij1mv",
        "outputId": "01621007-22af-45e6-e26b-37057338145b"
      },
      "source": [
        "\n",
        "plt.figure(figsize=(6,3), dpi=120)\n",
        "plt.plot(acc_train, color='red', label='train accuracy')\n",
        "plt.plot(acc_test, color='green', label='test accuracy')\n",
        "plt.xlabel('epoch')\n",
        "plt.ylabel('accuracy')\n",
        "plt.legend()\n",
        "plt.show()"
      ],
      "execution_count": null,
      "outputs": [
        {
          "output_type": "display_data",
          "data": {
            "image/png": "[encoded data removed]",
            "text/plain": [
              "<Figure size 720x360 with 1 Axes>"
            ]
          },
          "metadata": {
            "needs_background": "light"
          }
        }
      ]
    },
    {
      "cell_type": "code",
      "metadata": {
        "id": "yX30_9Jkk3IS"
      },
      "source": [
        "\n",
        "x_train = x_train[:, (1,3)]\n",
        "x_test = x_test[:,(1,3)]\n"
      ],
      "execution_count": null,
      "outputs": []
    },
    {
      "cell_type": "code",
      "metadata": {
        "colab": {
          "base_uri": "https://localhost:8080/",
          "height": 283
        },
        "id": "lwRD7mY2k-D3",
        "outputId": "d1c8949a-ba85-41d6-fb11-6b01e40b604f"
      },
      "source": [
        "plt.scatter(x_train[:,0], x_train[:,1], c=y_train)\n"
      ],
      "execution_count": null,
      "outputs": [
        {
          "output_type": "execute_result",
          "data": {
            "text/plain": [
              "<matplotlib.collections.PathCollection at 0x7efe351317d0>"
            ]
          },
          "metadata": {},
          "execution_count": 32
        },
        {
          "output_type": "display_data",
          "data": {
            "image/png": "[encoded data removed]",
            "text/plain": [
              "<Figure size 432x288 with 1 Axes>"
            ]
          },
          "metadata": {
            "needs_background": "light"
          }
        }
      ]
    },
    {
      "cell_type": "code",
      "metadata": {
        "id": "KbYNGtp1lmD2"
      },
      "source": [
        "def accuracy_multi(x, y):\n",
        "    return (x.argmax(-1) == y).float().mean()\n",
        "\n",
        "def fit(x_train, y_train, model ,criterion, optimizer, num_epochs):\n",
        "    for ii, epoch in enumerate(range(num_epochs)):\n",
        "        # forward\n",
        "        out       = model(x_train)\n",
        "        loss      = criterion(out, y_train)\n",
        "        acc_train = accuracy_multi(out, y_train)\n",
        "\n",
        "        # backward\n",
        "        optimizer.zero_grad()\n",
        "        loss.backward()\n",
        "        optimizer.step()\n",
        "    return"
      ],
      "execution_count": null,
      "outputs": []
    },
    {
      "cell_type": "code",
      "metadata": {
        "colab": {
          "base_uri": "https://localhost:8080/"
        },
        "id": "qzyu8C8rlAhe",
        "outputId": "dc0634ad-9c59-4d01-9b21-5504be3bbd61"
      },
      "source": [
        "model =  nn.Sequential(\n",
        "     nn.Linear(2, 3),\n",
        "     nn.Softmax()\n",
        ") \n",
        "optimizer = optim.SGD(model.parameters(), lr=0.008)\n",
        "fit(x_train, y_train,model, criterion, optimizer, num_epochs=10000)\n"
      ],
      "execution_count": null,
      "outputs": [
        {
          "output_type": "stream",
          "name": "stderr",
          "text": [
            "/usr/local/lib/python3.7/dist-packages/torch/nn/modules/container.py:141: UserWarning: Implicit dimension choice for softmax has been deprecated. Change the call to include dim=X as an argument.\n",
            "  input = module(input)\n"
          ]
        }
      ]
    },
    {
      "cell_type": "code",
      "metadata": {
        "colab": {
          "base_uri": "https://localhost:8080/",
          "height": 341
        },
        "id": "gzOqbL-AlMry",
        "outputId": "4ec4ca02-2031-4d7d-ff31-e2d0e230d5f9"
      },
      "source": [
        "x1 = np.linspace(0, 5, num=250)\n",
        "x2 = np.linspace(0, 5, num=250)\n",
        "x1, x2 = np.meshgrid(x1, x2)\n",
        "\n",
        "#decision boundry\n",
        "X_test = torch.tensor([x1.reshape(1,-1), x2.reshape(1,-1)],dtype=torch.float32).reshape(2,-1).t()\n",
        "with torch.no_grad():\n",
        "  Label = model(X_test)\n",
        "  Label = Label.argmax(axis=1)\n",
        "    # Plot the contour and training examples\n",
        "plt.contourf( x1,x2,  Label.detach().numpy().reshape(250,250) , cmap=plt.cm.Spectral)\n",
        "plt.scatter(x_train[:,0], x_train[:,1], c=y_train, cmap=plt.cm.Spectral)"
      ],
      "execution_count": null,
      "outputs": [
        {
          "output_type": "stream",
          "name": "stderr",
          "text": [
            "/usr/local/lib/python3.7/dist-packages/torch/nn/modules/container.py:141: UserWarning: Implicit dimension choice for softmax has been deprecated. Change the call to include dim=X as an argument.\n",
            "  input = module(input)\n"
          ]
        },
        {
          "output_type": "execute_result",
          "data": {
            "text/plain": [
              "<matplotlib.collections.PathCollection at 0x7efe349d7190>"
            ]
          },
          "metadata": {},
          "execution_count": 80
        },
        {
          "output_type": "display_data",
          "data": {
            "image/png": "[encoded data removed]",
            "text/plain": [
              "<Figure size 432x288 with 1 Axes>"
            ]
          },
          "metadata": {
            "needs_background": "light"
          }
        }
      ]
    }
  ]
}